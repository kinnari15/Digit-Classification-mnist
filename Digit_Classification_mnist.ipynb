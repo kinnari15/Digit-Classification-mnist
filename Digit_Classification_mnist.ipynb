{
 "cells": [
  {
   "cell_type": "code",
   "execution_count": 39,
   "id": "3a619b0d",
   "metadata": {},
   "outputs": [],
   "source": [
    "import tensorflow as tf\n",
    "from tensorflow import keras\n",
    "import numpy as np\n",
    "import matplotlib.pyplot as plt"
   ]
  },
  {
   "cell_type": "code",
   "execution_count": 40,
   "id": "c2b10110",
   "metadata": {},
   "outputs": [],
   "source": [
    "#Accesing the mnist dataset\n",
    "\n",
    "mnist = keras.datasets.mnist\n",
    "(X_train_full,y_train_full),(X_test,y_test) = mnist.load_data()"
   ]
  },
  {
   "cell_type": "code",
   "execution_count": 41,
   "id": "1ac218d4",
   "metadata": {},
   "outputs": [
    {
     "data": {
      "text/plain": [
       "<matplotlib.image.AxesImage at 0x25bb57700a0>"
      ]
     },
     "execution_count": 41,
     "metadata": {},
     "output_type": "execute_result"
    },
    {
     "data": {
      "image/png": "[encoded data removed]",
      "text/plain": [
       "<Figure size 432x288 with 1 Axes>"
      ]
     },
     "metadata": {
      "needs_background": "light"
     },
     "output_type": "display_data"
    }
   ],
   "source": [
    "plt.imshow(X_train_full[0])"
   ]
  },
  {
   "cell_type": "code",
   "execution_count": 42,
   "id": "aa264a27",
   "metadata": {},
   "outputs": [
    {
     "data": {
      "text/plain": [
       "<matplotlib.image.AxesImage at 0x25bb57c6f10>"
      ]
     },
     "execution_count": 42,
     "metadata": {},
     "output_type": "execute_result"
    },
    {
     "data": {
      "image/png": "[encoded data removed]",
      "text/plain": [
       "<Figure size 432x288 with 1 Axes>"
      ]
     },
     "metadata": {
      "needs_background": "light"
     },
     "output_type": "display_data"
    }
   ],
   "source": [
    "plt.imshow(X_test[1])"
   ]
  },
  {
   "cell_type": "code",
   "execution_count": 43,
   "id": "1b5e595d",
   "metadata": {},
   "outputs": [],
   "source": [
    "#Normalisation of the data\n",
    "\n",
    "X_train_n = X_train_full / 255\n",
    "X_test_n = X_test / 255"
   ]
  },
  {
   "cell_type": "code",
   "execution_count": 44,
   "id": "4e45ccf1",
   "metadata": {},
   "outputs": [],
   "source": [
    "#Creating a validation dataset\n",
    "#We take first 5000 data for the validation dataset and rest for the training\n",
    "X_valid, X_train = X_train_n[:6000],X_train_n[6000:]\n",
    "y_valid, y_train = y_train_full[:6000],y_train_full[6000:]\n",
    "X_test = X_test_n"
   ]
  },
  {
   "cell_type": "code",
   "execution_count": 45,
   "id": "f10cb34e",
   "metadata": {},
   "outputs": [
    {
     "data": {
      "text/plain": [
       "array([[0.        , 0.        , 0.        , 0.        , 0.        ,\n",
       "        0.        , 0.        , 0.        , 0.        , 0.        ,\n",
       "        0.        , 0.        , 0.        , 0.        , 0.        ,\n",
       "        0.        , 0.        , 0.        , 0.        , 0.        ,\n",
       "        0.        , 0.        , 0.        , 0.        , 0.        ,\n",
       "        0.        , 0.        , 0.        ],\n",
       "       [0.        , 0.        , 0.        , 0.        , 0.        ,\n",
       "        0.        , 0.        , 0.        , 0.        , 0.        ,\n",
       "        0.        , 0.        , 0.        , 0.        , 0.        ,\n",
       "        0.        , 0.        , 0.        , 0.        , 0.        ,\n",
       "        0.        , 0.        , 0.        , 0.        , 0.        ,\n",
       "        0.        , 0.        , 0.        ],\n",
       "       [0.        , 0.        , 0.        , 0.        , 0.        ,\n",
       "        0.        , 0.        , 0.        , 0.        , 0.        ,\n",
       "        0.        , 0.        , 0.        , 0.        , 0.        ,\n",
       "        0.        , 0.        , 0.        , 0.        , 0.        ,\n",
       "        0.        , 0.        , 0.        , 0.        , 0.        ,\n",
       "        0.        , 0.        , 0.        ],\n",
       "       [0.        , 0.        , 0.        , 0.        , 0.        ,\n",
       "        0.        , 0.        , 0.        , 0.        , 0.        ,\n",
       "        0.        , 0.        , 0.        , 0.        , 0.        ,\n",
       "        0.        , 0.        , 0.        , 0.        , 0.        ,\n",
       "        0.        , 0.        , 0.        , 0.        , 0.        ,\n",
       "        0.        , 0.        , 0.        ],\n",
       "       [0.        , 0.        , 0.        , 0.        , 0.        ,\n",
       "        0.        , 0.        , 0.        , 0.        , 0.        ,\n",
       "        0.        , 0.        , 0.        , 0.        , 0.        ,\n",
       "        0.        , 0.        , 0.        , 0.        , 0.        ,\n",
       "        0.        , 0.        , 0.        , 0.        , 0.        ,\n",
       "        0.        , 0.        , 0.        ],\n",
       "       [0.        , 0.        , 0.        , 0.        , 0.        ,\n",
       "        0.        , 0.        , 0.        , 0.        , 0.        ,\n",
       "        0.        , 0.        , 0.01176471, 0.07058824, 0.07058824,\n",
       "        0.07058824, 0.49411765, 0.53333333, 0.68627451, 0.10196078,\n",
       "        0.65098039, 1.        , 0.96862745, 0.49803922, 0.        ,\n",
       "        0.        , 0.        , 0.        ],\n",
       "       [0.        , 0.        , 0.        , 0.        , 0.        ,\n",
       "        0.        , 0.        , 0.        , 0.11764706, 0.14117647,\n",
       "        0.36862745, 0.60392157, 0.66666667, 0.99215686, 0.99215686,\n",
       "        0.99215686, 0.99215686, 0.99215686, 0.88235294, 0.6745098 ,\n",
       "        0.99215686, 0.94901961, 0.76470588, 0.25098039, 0.        ,\n",
       "        0.        , 0.        , 0.        ],\n",
       "       [0.        , 0.        , 0.        , 0.        , 0.        ,\n",
       "        0.        , 0.        , 0.19215686, 0.93333333, 0.99215686,\n",
       "        0.99215686, 0.99215686, 0.99215686, 0.99215686, 0.99215686,\n",
       "        0.99215686, 0.99215686, 0.98431373, 0.36470588, 0.32156863,\n",
       "        0.32156863, 0.21960784, 0.15294118, 0.        , 0.        ,\n",
       "        0.        , 0.        , 0.        ],\n",
       "       [0.        , 0.        , 0.        , 0.        , 0.        ,\n",
       "        0.        , 0.        , 0.07058824, 0.85882353, 0.99215686,\n",
       "        0.99215686, 0.99215686, 0.99215686, 0.99215686, 0.77647059,\n",
       "        0.71372549, 0.96862745, 0.94509804, 0.        , 0.        ,\n",
       "        0.        , 0.        , 0.        , 0.        , 0.        ,\n",
       "        0.        , 0.        , 0.        ],\n",
       "       [0.        , 0.        , 0.        , 0.        , 0.        ,\n",
       "        0.        , 0.        , 0.        , 0.31372549, 0.61176471,\n",
       "        0.41960784, 0.99215686, 0.99215686, 0.80392157, 0.04313725,\n",
       "        0.        , 0.16862745, 0.60392157, 0.        , 0.        ,\n",
       "        0.        , 0.        , 0.        , 0.        , 0.        ,\n",
       "        0.        , 0.        , 0.        ],\n",
       "       [0.        , 0.        , 0.        , 0.        , 0.        ,\n",
       "        0.        , 0.        , 0.        , 0.        , 0.05490196,\n",
       "        0.00392157, 0.60392157, 0.99215686, 0.35294118, 0.        ,\n",
       "        0.        , 0.        , 0.        , 0.        , 0.        ,\n",
       "        0.        , 0.        , 0.        , 0.        , 0.        ,\n",
       "        0.        , 0.        , 0.        ],\n",
       "       [0.        , 0.        , 0.        , 0.        , 0.        ,\n",
       "        0.        , 0.        , 0.        , 0.        , 0.        ,\n",
       "        0.        , 0.54509804, 0.99215686, 0.74509804, 0.00784314,\n",
       "        0.        , 0.        , 0.        , 0.        , 0.        ,\n",
       "        0.        , 0.        , 0.        , 0.        , 0.        ,\n",
       "        0.        , 0.        , 0.        ],\n",
       "       [0.        , 0.        , 0.        , 0.        , 0.        ,\n",
       "        0.        , 0.        , 0.        , 0.        , 0.        ,\n",
       "        0.        , 0.04313725, 0.74509804, 0.99215686, 0.2745098 ,\n",
       "        0.        , 0.        , 0.        , 0.        , 0.        ,\n",
       "        0.        , 0.        , 0.        , 0.        , 0.        ,\n",
       "        0.        , 0.        , 0.        ],\n",
       "       [0.        , 0.        , 0.        , 0.        , 0.        ,\n",
       "        0.        , 0.        , 0.        , 0.        , 0.        ,\n",
       "        0.        , 0.        , 0.1372549 , 0.94509804, 0.88235294,\n",
       "        0.62745098, 0.42352941, 0.00392157, 0.        , 0.        ,\n",
       "        0.        , 0.        , 0.        , 0.        , 0.        ,\n",
       "        0.        , 0.        , 0.        ],\n",
       "       [0.        , 0.        , 0.        , 0.        , 0.        ,\n",
       "        0.        , 0.        , 0.        , 0.        , 0.        ,\n",
       "        0.        , 0.        , 0.        , 0.31764706, 0.94117647,\n",
       "        0.99215686, 0.99215686, 0.46666667, 0.09803922, 0.        ,\n",
       "        0.        , 0.        , 0.        , 0.        , 0.        ,\n",
       "        0.        , 0.        , 0.        ],\n",
       "       [0.        , 0.        , 0.        , 0.        , 0.        ,\n",
       "        0.        , 0.        , 0.        , 0.        , 0.        ,\n",
       "        0.        , 0.        , 0.        , 0.        , 0.17647059,\n",
       "        0.72941176, 0.99215686, 0.99215686, 0.58823529, 0.10588235,\n",
       "        0.        , 0.        , 0.        , 0.        , 0.        ,\n",
       "        0.        , 0.        , 0.        ],\n",
       "       [0.        , 0.        , 0.        , 0.        , 0.        ,\n",
       "        0.        , 0.        , 0.        , 0.        , 0.        ,\n",
       "        0.        , 0.        , 0.        , 0.        , 0.        ,\n",
       "        0.0627451 , 0.36470588, 0.98823529, 0.99215686, 0.73333333,\n",
       "        0.        , 0.        , 0.        , 0.        , 0.        ,\n",
       "        0.        , 0.        , 0.        ],\n",
       "       [0.        , 0.        , 0.        , 0.        , 0.        ,\n",
       "        0.        , 0.        , 0.        , 0.        , 0.        ,\n",
       "        0.        , 0.        , 0.        , 0.        , 0.        ,\n",
       "        0.        , 0.        , 0.97647059, 0.99215686, 0.97647059,\n",
       "        0.25098039, 0.        , 0.        , 0.        , 0.        ,\n",
       "        0.        , 0.        , 0.        ],\n",
       "       [0.        , 0.        , 0.        , 0.        , 0.        ,\n",
       "        0.        , 0.        , 0.        , 0.        , 0.        ,\n",
       "        0.        , 0.        , 0.        , 0.        , 0.18039216,\n",
       "        0.50980392, 0.71764706, 0.99215686, 0.99215686, 0.81176471,\n",
       "        0.00784314, 0.        , 0.        , 0.        , 0.        ,\n",
       "        0.        , 0.        , 0.        ],\n",
       "       [0.        , 0.        , 0.        , 0.        , 0.        ,\n",
       "        0.        , 0.        , 0.        , 0.        , 0.        ,\n",
       "        0.        , 0.        , 0.15294118, 0.58039216, 0.89803922,\n",
       "        0.99215686, 0.99215686, 0.99215686, 0.98039216, 0.71372549,\n",
       "        0.        , 0.        , 0.        , 0.        , 0.        ,\n",
       "        0.        , 0.        , 0.        ],\n",
       "       [0.        , 0.        , 0.        , 0.        , 0.        ,\n",
       "        0.        , 0.        , 0.        , 0.        , 0.        ,\n",
       "        0.09411765, 0.44705882, 0.86666667, 0.99215686, 0.99215686,\n",
       "        0.99215686, 0.99215686, 0.78823529, 0.30588235, 0.        ,\n",
       "        0.        , 0.        , 0.        , 0.        , 0.        ,\n",
       "        0.        , 0.        , 0.        ],\n",
       "       [0.        , 0.        , 0.        , 0.        , 0.        ,\n",
       "        0.        , 0.        , 0.        , 0.09019608, 0.25882353,\n",
       "        0.83529412, 0.99215686, 0.99215686, 0.99215686, 0.99215686,\n",
       "        0.77647059, 0.31764706, 0.00784314, 0.        , 0.        ,\n",
       "        0.        , 0.        , 0.        , 0.        , 0.        ,\n",
       "        0.        , 0.        , 0.        ],\n",
       "       [0.        , 0.        , 0.        , 0.        , 0.        ,\n",
       "        0.        , 0.07058824, 0.67058824, 0.85882353, 0.99215686,\n",
       "        0.99215686, 0.99215686, 0.99215686, 0.76470588, 0.31372549,\n",
       "        0.03529412, 0.        , 0.        , 0.        , 0.        ,\n",
       "        0.        , 0.        , 0.        , 0.        , 0.        ,\n",
       "        0.        , 0.        , 0.        ],\n",
       "       [0.        , 0.        , 0.        , 0.        , 0.21568627,\n",
       "        0.6745098 , 0.88627451, 0.99215686, 0.99215686, 0.99215686,\n",
       "        0.99215686, 0.95686275, 0.52156863, 0.04313725, 0.        ,\n",
       "        0.        , 0.        , 0.        , 0.        , 0.        ,\n",
       "        0.        , 0.        , 0.        , 0.        , 0.        ,\n",
       "        0.        , 0.        , 0.        ],\n",
       "       [0.        , 0.        , 0.        , 0.        , 0.53333333,\n",
       "        0.99215686, 0.99215686, 0.99215686, 0.83137255, 0.52941176,\n",
       "        0.51764706, 0.0627451 , 0.        , 0.        , 0.        ,\n",
       "        0.        , 0.        , 0.        , 0.        , 0.        ,\n",
       "        0.        , 0.        , 0.        , 0.        , 0.        ,\n",
       "        0.        , 0.        , 0.        ],\n",
       "       [0.        , 0.        , 0.        , 0.        , 0.        ,\n",
       "        0.        , 0.        , 0.        , 0.        , 0.        ,\n",
       "        0.        , 0.        , 0.        , 0.        , 0.        ,\n",
       "        0.        , 0.        , 0.        , 0.        , 0.        ,\n",
       "        0.        , 0.        , 0.        , 0.        , 0.        ,\n",
       "        0.        , 0.        , 0.        ],\n",
       "       [0.        , 0.        , 0.        , 0.        , 0.        ,\n",
       "        0.        , 0.        , 0.        , 0.        , 0.        ,\n",
       "        0.        , 0.        , 0.        , 0.        , 0.        ,\n",
       "        0.        , 0.        , 0.        , 0.        , 0.        ,\n",
       "        0.        , 0.        , 0.        , 0.        , 0.        ,\n",
       "        0.        , 0.        , 0.        ],\n",
       "       [0.        , 0.        , 0.        , 0.        , 0.        ,\n",
       "        0.        , 0.        , 0.        , 0.        , 0.        ,\n",
       "        0.        , 0.        , 0.        , 0.        , 0.        ,\n",
       "        0.        , 0.        , 0.        , 0.        , 0.        ,\n",
       "        0.        , 0.        , 0.        , 0.        , 0.        ,\n",
       "        0.        , 0.        , 0.        ]])"
      ]
     },
     "execution_count": 45,
     "metadata": {},
     "output_type": "execute_result"
    }
   ],
   "source": [
    "X_valid[0]"
   ]
  },
  {
   "cell_type": "code",
   "execution_count": 46,
   "id": "874b301f",
   "metadata": {},
   "outputs": [],
   "source": [
    "#creating an ANN model\n",
    "\n",
    "np.random.seed(42)\n",
    "tf.random.set_seed(42)"
   ]
  },
  {
   "cell_type": "code",
   "execution_count": 47,
   "id": "ed2c43c1",
   "metadata": {},
   "outputs": [],
   "source": [
    "model = keras.models.Sequential()\n",
    "model.add(keras.layers.Flatten(input_shape=[28,28]))\n",
    "model.add(keras.layers.Dense(200,activation=\"relu\"))\n",
    "model.add(keras.layers.Dense(100,activation=\"relu\"))\n",
    "model.add(keras.layers.Dense(10,activation=\"softmax\"))"
   ]
  },
  {
   "cell_type": "code",
   "execution_count": 48,
   "id": "950bd1bb",
   "metadata": {},
   "outputs": [
    {
     "name": "stdout",
     "output_type": "stream",
     "text": [
      "Model: \"sequential_1\"\n",
      "_________________________________________________________________\n",
      "Layer (type)                 Output Shape              Param #   \n",
      "=================================================================\n",
      "flatten_1 (Flatten)          (None, 784)               0         \n",
      "_________________________________________________________________\n",
      "dense_3 (Dense)              (None, 200)               157000    \n",
      "_________________________________________________________________\n",
      "dense_4 (Dense)              (None, 100)               20100     \n",
      "_________________________________________________________________\n",
      "dense_5 (Dense)              (None, 10)                1010      \n",
      "=================================================================\n",
      "Total params: 178,110\n",
      "Trainable params: 178,110\n",
      "Non-trainable params: 0\n",
      "_________________________________________________________________\n"
     ]
    }
   ],
   "source": [
    "model.summary()"
   ]
  },
  {
   "cell_type": "code",
   "execution_count": 49,
   "id": "1c69804d",
   "metadata": {},
   "outputs": [
    {
     "data": {
      "image/png": "[encoded data removed]",
      "text/plain": [
       "<IPython.core.display.Image object>"
      ]
     },
     "execution_count": 49,
     "metadata": {},
     "output_type": "execute_result"
    }
   ],
   "source": [
    "import pydot\n",
    "keras.utils.plot_model(model)"
   ]
  },
  {
   "cell_type": "code",
   "execution_count": 50,
   "id": "2130213b",
   "metadata": {},
   "outputs": [],
   "source": [
    "#compiling and training the model\n",
    "\n",
    "model.compile(loss=\"sparse_categorical_crossentropy\",optimizer=\"sgd\",metrics=[\"accuracy\"])"
   ]
  },
  {
   "cell_type": "code",
   "execution_count": 51,
   "id": "66e699ba",
   "metadata": {},
   "outputs": [
    {
     "name": "stdout",
     "output_type": "stream",
     "text": [
      "Epoch 1/60\n",
      "1688/1688 [==============================] - 2s 1ms/step - loss: 0.6607 - accuracy: 0.8267 - val_loss: 0.3216 - val_accuracy: 0.9125\n",
      "Epoch 2/60\n",
      "1688/1688 [==============================] - 2s 930us/step - loss: 0.3006 - accuracy: 0.9141 - val_loss: 0.2585 - val_accuracy: 0.9283\n",
      "Epoch 3/60\n",
      "1688/1688 [==============================] - 2s 1ms/step - loss: 0.2488 - accuracy: 0.9293 - val_loss: 0.2254 - val_accuracy: 0.9385\n",
      "Epoch 4/60\n",
      "1688/1688 [==============================] - 2s 1ms/step - loss: 0.2151 - accuracy: 0.9390 - val_loss: 0.1961 - val_accuracy: 0.9442\n",
      "Epoch 5/60\n",
      "1688/1688 [==============================] - 2s 1ms/step - loss: 0.1893 - accuracy: 0.9462 - val_loss: 0.1790 - val_accuracy: 0.9485\n",
      "Epoch 6/60\n",
      "1688/1688 [==============================] - 3s 2ms/step - loss: 0.1690 - accuracy: 0.9517 - val_loss: 0.1637 - val_accuracy: 0.9523\n",
      "Epoch 7/60\n",
      "1688/1688 [==============================] - 2s 990us/step - loss: 0.1521 - accuracy: 0.9569 - val_loss: 0.1483 - val_accuracy: 0.9587\n",
      "Epoch 8/60\n",
      "1688/1688 [==============================] - 2s 1ms/step - loss: 0.1378 - accuracy: 0.9611 - val_loss: 0.1417 - val_accuracy: 0.9608\n",
      "Epoch 9/60\n",
      "1688/1688 [==============================] - 2s 1ms/step - loss: 0.1260 - accuracy: 0.9642 - val_loss: 0.1316 - val_accuracy: 0.9648\n",
      "Epoch 10/60\n",
      "1688/1688 [==============================] - 2s 1ms/step - loss: 0.1157 - accuracy: 0.9673 - val_loss: 0.1274 - val_accuracy: 0.9635\n",
      "Epoch 11/60\n",
      "1688/1688 [==============================] - 2s 1ms/step - loss: 0.1067 - accuracy: 0.9698 - val_loss: 0.1157 - val_accuracy: 0.9675\n",
      "Epoch 12/60\n",
      "1688/1688 [==============================] - 3s 2ms/step - loss: 0.0991 - accuracy: 0.9722 - val_loss: 0.1118 - val_accuracy: 0.9702\n",
      "Epoch 13/60\n",
      "1688/1688 [==============================] - 3s 2ms/step - loss: 0.0918 - accuracy: 0.9745 - val_loss: 0.1057 - val_accuracy: 0.9708\n",
      "Epoch 14/60\n",
      "1688/1688 [==============================] - 2s 1ms/step - loss: 0.0857 - accuracy: 0.9766 - val_loss: 0.1006 - val_accuracy: 0.9722\n",
      "Epoch 15/60\n",
      "1688/1688 [==============================] - 3s 2ms/step - loss: 0.0802 - accuracy: 0.9777 - val_loss: 0.0989 - val_accuracy: 0.9722\n",
      "Epoch 16/60\n",
      "1688/1688 [==============================] - 2s 1ms/step - loss: 0.0752 - accuracy: 0.9794 - val_loss: 0.0945 - val_accuracy: 0.9723\n",
      "Epoch 17/60\n",
      "1688/1688 [==============================] - 3s 2ms/step - loss: 0.0707 - accuracy: 0.9808 - val_loss: 0.0934 - val_accuracy: 0.9728\n",
      "Epoch 18/60\n",
      "1688/1688 [==============================] - 2s 1ms/step - loss: 0.0660 - accuracy: 0.9818 - val_loss: 0.0893 - val_accuracy: 0.9753\n",
      "Epoch 19/60\n",
      "1688/1688 [==============================] - 4s 2ms/step - loss: 0.0625 - accuracy: 0.9829 - val_loss: 0.0893 - val_accuracy: 0.9733\n",
      "Epoch 20/60\n",
      "1688/1688 [==============================] - 4s 2ms/step - loss: 0.0588 - accuracy: 0.9841 - val_loss: 0.0874 - val_accuracy: 0.9750\n",
      "Epoch 21/60\n",
      "1688/1688 [==============================] - 3s 2ms/step - loss: 0.0556 - accuracy: 0.9851 - val_loss: 0.0864 - val_accuracy: 0.9757\n",
      "Epoch 22/60\n",
      "1688/1688 [==============================] - 2s 1ms/step - loss: 0.0525 - accuracy: 0.9860 - val_loss: 0.0837 - val_accuracy: 0.9762\n",
      "Epoch 23/60\n",
      "1688/1688 [==============================] - 2s 1ms/step - loss: 0.0496 - accuracy: 0.9864 - val_loss: 0.0828 - val_accuracy: 0.9767\n",
      "Epoch 24/60\n",
      "1688/1688 [==============================] - 3s 2ms/step - loss: 0.0469 - accuracy: 0.9874 - val_loss: 0.0823 - val_accuracy: 0.9760\n",
      "Epoch 25/60\n",
      "1688/1688 [==============================] - 3s 1ms/step - loss: 0.0443 - accuracy: 0.9883 - val_loss: 0.0832 - val_accuracy: 0.9747\n",
      "Epoch 26/60\n",
      "1688/1688 [==============================] - 3s 2ms/step - loss: 0.0421 - accuracy: 0.9888 - val_loss: 0.0809 - val_accuracy: 0.9763\n",
      "Epoch 27/60\n",
      "1688/1688 [==============================] - 2s 1ms/step - loss: 0.0399 - accuracy: 0.9892 - val_loss: 0.0770 - val_accuracy: 0.9775\n",
      "Epoch 28/60\n",
      "1688/1688 [==============================] - 2s 1ms/step - loss: 0.0378 - accuracy: 0.9902 - val_loss: 0.0770 - val_accuracy: 0.9767\n",
      "Epoch 29/60\n",
      "1688/1688 [==============================] - 2s 1ms/step - loss: 0.0358 - accuracy: 0.9907 - val_loss: 0.0758 - val_accuracy: 0.9780\n",
      "Epoch 30/60\n",
      "1688/1688 [==============================] - 2s 1ms/step - loss: 0.0339 - accuracy: 0.9916 - val_loss: 0.0784 - val_accuracy: 0.9768\n",
      "Epoch 31/60\n",
      "1688/1688 [==============================] - 3s 2ms/step - loss: 0.0322 - accuracy: 0.9920 - val_loss: 0.0750 - val_accuracy: 0.9780\n",
      "Epoch 32/60\n",
      "1688/1688 [==============================] - 2s 1ms/step - loss: 0.0304 - accuracy: 0.9927 - val_loss: 0.0771 - val_accuracy: 0.9775\n",
      "Epoch 33/60\n",
      "1688/1688 [==============================] - 2s 1ms/step - loss: 0.0290 - accuracy: 0.9931 - val_loss: 0.0762 - val_accuracy: 0.9782\n",
      "Epoch 34/60\n",
      "1688/1688 [==============================] - 2s 1ms/step - loss: 0.0274 - accuracy: 0.9938 - val_loss: 0.0761 - val_accuracy: 0.9778\n",
      "Epoch 35/60\n",
      "1688/1688 [==============================] - 2s 1ms/step - loss: 0.0260 - accuracy: 0.9941 - val_loss: 0.0747 - val_accuracy: 0.9783\n",
      "Epoch 36/60\n",
      "1688/1688 [==============================] - 2s 1ms/step - loss: 0.0247 - accuracy: 0.9946 - val_loss: 0.0796 - val_accuracy: 0.9770\n",
      "Epoch 37/60\n",
      "1688/1688 [==============================] - 2s 1ms/step - loss: 0.0237 - accuracy: 0.9944 - val_loss: 0.0753 - val_accuracy: 0.9775\n",
      "Epoch 38/60\n",
      "1688/1688 [==============================] - 2s 1ms/step - loss: 0.0223 - accuracy: 0.9954 - val_loss: 0.0758 - val_accuracy: 0.9775\n",
      "Epoch 39/60\n",
      "1688/1688 [==============================] - 2s 1ms/step - loss: 0.0212 - accuracy: 0.9958 - val_loss: 0.0748 - val_accuracy: 0.9775\n",
      "Epoch 40/60\n",
      "1688/1688 [==============================] - 2s 1ms/step - loss: 0.0202 - accuracy: 0.9961 - val_loss: 0.0753 - val_accuracy: 0.9783\n",
      "Epoch 41/60\n",
      "1688/1688 [==============================] - 2s 1ms/step - loss: 0.0192 - accuracy: 0.9968 - val_loss: 0.0752 - val_accuracy: 0.9782\n",
      "Epoch 42/60\n",
      "1688/1688 [==============================] - 2s 1ms/step - loss: 0.0183 - accuracy: 0.9968 - val_loss: 0.0766 - val_accuracy: 0.9782\n",
      "Epoch 43/60\n",
      "1688/1688 [==============================] - 2s 1ms/step - loss: 0.0174 - accuracy: 0.9971 - val_loss: 0.0816 - val_accuracy: 0.9763\n",
      "Epoch 44/60\n",
      "1688/1688 [==============================] - 2s 1ms/step - loss: 0.0166 - accuracy: 0.9973 - val_loss: 0.0754 - val_accuracy: 0.9785\n",
      "Epoch 45/60\n",
      "1688/1688 [==============================] - 3s 2ms/step - loss: 0.0157 - accuracy: 0.9977 - val_loss: 0.0754 - val_accuracy: 0.9780\n",
      "Epoch 46/60\n",
      "1688/1688 [==============================] - 2s 1ms/step - loss: 0.0151 - accuracy: 0.9979 - val_loss: 0.0758 - val_accuracy: 0.9780\n",
      "Epoch 47/60\n",
      "1688/1688 [==============================] - 2s 1ms/step - loss: 0.0143 - accuracy: 0.9980 - val_loss: 0.0766 - val_accuracy: 0.9775\n",
      "Epoch 48/60\n",
      "1688/1688 [==============================] - 2s 1ms/step - loss: 0.0137 - accuracy: 0.9984 - val_loss: 0.0767 - val_accuracy: 0.9763\n",
      "Epoch 49/60\n",
      "1688/1688 [==============================] - 2s 1ms/step - loss: 0.0130 - accuracy: 0.9982 - val_loss: 0.0773 - val_accuracy: 0.9773\n",
      "Epoch 50/60\n",
      "1688/1688 [==============================] - 2s 1ms/step - loss: 0.0124 - accuracy: 0.9986 - val_loss: 0.0790 - val_accuracy: 0.9775\n",
      "Epoch 51/60\n",
      "1688/1688 [==============================] - 2s 1ms/step - loss: 0.0120 - accuracy: 0.9985 - val_loss: 0.0767 - val_accuracy: 0.9777\n",
      "Epoch 52/60\n",
      "1688/1688 [==============================] - 2s 1ms/step - loss: 0.0114 - accuracy: 0.9987 - val_loss: 0.0760 - val_accuracy: 0.9778\n",
      "Epoch 53/60\n",
      "1688/1688 [==============================] - 2s 1ms/step - loss: 0.0109 - accuracy: 0.9988 - val_loss: 0.0777 - val_accuracy: 0.9783\n",
      "Epoch 54/60\n",
      "1688/1688 [==============================] - 2s 1ms/step - loss: 0.0105 - accuracy: 0.9989 - val_loss: 0.0761 - val_accuracy: 0.9788\n",
      "Epoch 55/60\n",
      "1688/1688 [==============================] - 2s 1ms/step - loss: 0.0100 - accuracy: 0.9990 - val_loss: 0.0778 - val_accuracy: 0.9782\n",
      "Epoch 56/60\n",
      "1688/1688 [==============================] - 2s 1ms/step - loss: 0.0095 - accuracy: 0.9991 - val_loss: 0.0786 - val_accuracy: 0.9773\n",
      "Epoch 57/60\n"
     ]
    },
    {
     "name": "stdout",
     "output_type": "stream",
     "text": [
      "1688/1688 [==============================] - 2s 1ms/step - loss: 0.0091 - accuracy: 0.9993 - val_loss: 0.0790 - val_accuracy: 0.9773\n",
      "Epoch 58/60\n",
      "1688/1688 [==============================] - 2s 1ms/step - loss: 0.0088 - accuracy: 0.9992 - val_loss: 0.0773 - val_accuracy: 0.9778\n",
      "Epoch 59/60\n",
      "1688/1688 [==============================] - 2s 1ms/step - loss: 0.0085 - accuracy: 0.9993 - val_loss: 0.0798 - val_accuracy: 0.9770\n",
      "Epoch 60/60\n",
      "1688/1688 [==============================] - 2s 1ms/step - loss: 0.0081 - accuracy: 0.9993 - val_loss: 0.0803 - val_accuracy: 0.9772\n"
     ]
    }
   ],
   "source": [
    "#fitting the data\n",
    "\n",
    "model_history = model.fit(X_train,y_train,epochs=60,validation_data=(X_valid,y_valid))"
   ]
  },
  {
   "cell_type": "code",
   "execution_count": 52,
   "id": "7a6d00f4",
   "metadata": {},
   "outputs": [
    {
     "data": {
      "text/plain": [
       "{'verbose': 1, 'epochs': 60, 'steps': 1688}"
      ]
     },
     "execution_count": 52,
     "metadata": {},
     "output_type": "execute_result"
    }
   ],
   "source": [
    "model_history.params"
   ]
  },
  {
   "cell_type": "code",
   "execution_count": 53,
   "id": "5938c099",
   "metadata": {},
   "outputs": [
    {
     "data": {
      "text/plain": [
       "{'loss': [0.6606810092926025,\n",
       "  0.30064910650253296,\n",
       "  0.24879586696624756,\n",
       "  0.21510861814022064,\n",
       "  0.18929550051689148,\n",
       "  0.16901041567325592,\n",
       "  0.15213742852210999,\n",
       "  0.1378406435251236,\n",
       "  0.12604959309101105,\n",
       "  0.11573587357997894,\n",
       "  0.10667417198419571,\n",
       "  0.0991302877664566,\n",
       "  0.0917779803276062,\n",
       "  0.08571785688400269,\n",
       "  0.08021797984838486,\n",
       "  0.07520415633916855,\n",
       "  0.07073912024497986,\n",
       "  0.06598038971424103,\n",
       "  0.06247304379940033,\n",
       "  0.05878259614109993,\n",
       "  0.055575042963027954,\n",
       "  0.0525231808423996,\n",
       "  0.04961642622947693,\n",
       "  0.04685394465923309,\n",
       "  0.04433048889040947,\n",
       "  0.042062435299158096,\n",
       "  0.039854150265455246,\n",
       "  0.03781918063759804,\n",
       "  0.035810548812150955,\n",
       "  0.033877722918987274,\n",
       "  0.03216657042503357,\n",
       "  0.030406944453716278,\n",
       "  0.028979187831282616,\n",
       "  0.027416404336690903,\n",
       "  0.02600179798901081,\n",
       "  0.02466021291911602,\n",
       "  0.023695431649684906,\n",
       "  0.02232976444065571,\n",
       "  0.021196363493800163,\n",
       "  0.020227748900651932,\n",
       "  0.019151365384459496,\n",
       "  0.0182862039655447,\n",
       "  0.017417116090655327,\n",
       "  0.016632404178380966,\n",
       "  0.015749046579003334,\n",
       "  0.015067508444190025,\n",
       "  0.01432409230619669,\n",
       "  0.013691038824617863,\n",
       "  0.013045212253928185,\n",
       "  0.012432228773832321,\n",
       "  0.011952625587582588,\n",
       "  0.011382442899048328,\n",
       "  0.010931193828582764,\n",
       "  0.010506674647331238,\n",
       "  0.010015951469540596,\n",
       "  0.009510563686490059,\n",
       "  0.009105319157242775,\n",
       "  0.008828779682517052,\n",
       "  0.008472803048789501,\n",
       "  0.008086265064775944],\n",
       " 'accuracy': [0.8267222046852112,\n",
       "  0.9140740633010864,\n",
       "  0.929277777671814,\n",
       "  0.9389814734458923,\n",
       "  0.9461851716041565,\n",
       "  0.9516666531562805,\n",
       "  0.9568889141082764,\n",
       "  0.9611296057701111,\n",
       "  0.9642221927642822,\n",
       "  0.9673333168029785,\n",
       "  0.9698148369789124,\n",
       "  0.9722407460212708,\n",
       "  0.9745370149612427,\n",
       "  0.9765555262565613,\n",
       "  0.9777222275733948,\n",
       "  0.9793518781661987,\n",
       "  0.9807962775230408,\n",
       "  0.9817777872085571,\n",
       "  0.9829259514808655,\n",
       "  0.9841296076774597,\n",
       "  0.9851111173629761,\n",
       "  0.9860000014305115,\n",
       "  0.9863888621330261,\n",
       "  0.987407386302948,\n",
       "  0.9883148074150085,\n",
       "  0.9887592792510986,\n",
       "  0.9892222285270691,\n",
       "  0.9902036786079407,\n",
       "  0.9906666874885559,\n",
       "  0.9915555715560913,\n",
       "  0.9919999837875366,\n",
       "  0.9927407503128052,\n",
       "  0.9931296110153198,\n",
       "  0.993759274482727,\n",
       "  0.9941296577453613,\n",
       "  0.9946296215057373,\n",
       "  0.9944074153900146,\n",
       "  0.9953888654708862,\n",
       "  0.9957963228225708,\n",
       "  0.9961481690406799,\n",
       "  0.9967592358589172,\n",
       "  0.996833324432373,\n",
       "  0.9970740675926208,\n",
       "  0.9972962737083435,\n",
       "  0.9977037310600281,\n",
       "  0.9979444742202759,\n",
       "  0.9980185031890869,\n",
       "  0.998370349407196,\n",
       "  0.998203694820404,\n",
       "  0.9986481666564941,\n",
       "  0.9985370635986328,\n",
       "  0.9987407326698303,\n",
       "  0.998796284198761,\n",
       "  0.9989073872566223,\n",
       "  0.9989814758300781,\n",
       "  0.9991111159324646,\n",
       "  0.9992592334747314,\n",
       "  0.9992036819458008,\n",
       "  0.9993333220481873,\n",
       "  0.9993148446083069],\n",
       " 'val_loss': [0.32164785265922546,\n",
       "  0.2585417926311493,\n",
       "  0.22539640963077545,\n",
       "  0.19607026875019073,\n",
       "  0.1789989024400711,\n",
       "  0.163719043135643,\n",
       "  0.14826756715774536,\n",
       "  0.1417260766029358,\n",
       "  0.1315753012895584,\n",
       "  0.12738294899463654,\n",
       "  0.11574885994195938,\n",
       "  0.11178344488143921,\n",
       "  0.10565540939569473,\n",
       "  0.10057695209980011,\n",
       "  0.09894322603940964,\n",
       "  0.09454849362373352,\n",
       "  0.0933963805437088,\n",
       "  0.08931046724319458,\n",
       "  0.08934681862592697,\n",
       "  0.08740484714508057,\n",
       "  0.08641336858272552,\n",
       "  0.08371838182210922,\n",
       "  0.08282531052827835,\n",
       "  0.08228103816509247,\n",
       "  0.08324931561946869,\n",
       "  0.0809302031993866,\n",
       "  0.07703997939825058,\n",
       "  0.07701211422681808,\n",
       "  0.07583525776863098,\n",
       "  0.07835538685321808,\n",
       "  0.07500836998224258,\n",
       "  0.0770811140537262,\n",
       "  0.07622841000556946,\n",
       "  0.0761372298002243,\n",
       "  0.07474025338888168,\n",
       "  0.07963038980960846,\n",
       "  0.07527292519807816,\n",
       "  0.0757681205868721,\n",
       "  0.07481365650892258,\n",
       "  0.07531697303056717,\n",
       "  0.07516737282276154,\n",
       "  0.07662373036146164,\n",
       "  0.08156546205282211,\n",
       "  0.07540121674537659,\n",
       "  0.07541689276695251,\n",
       "  0.07579338550567627,\n",
       "  0.07659821212291718,\n",
       "  0.07666969299316406,\n",
       "  0.07733754813671112,\n",
       "  0.0789535641670227,\n",
       "  0.07673709094524384,\n",
       "  0.07603445649147034,\n",
       "  0.07768135517835617,\n",
       "  0.0761171281337738,\n",
       "  0.07779067009687424,\n",
       "  0.0786309763789177,\n",
       "  0.07897587865591049,\n",
       "  0.07728191465139389,\n",
       "  0.07977759838104248,\n",
       "  0.08029692620038986],\n",
       " 'val_accuracy': [0.9125000238418579,\n",
       "  0.9283333420753479,\n",
       "  0.9384999871253967,\n",
       "  0.9441666603088379,\n",
       "  0.9484999775886536,\n",
       "  0.9523333311080933,\n",
       "  0.9586666822433472,\n",
       "  0.9608333110809326,\n",
       "  0.9648333191871643,\n",
       "  0.9635000228881836,\n",
       "  0.9674999713897705,\n",
       "  0.9701666831970215,\n",
       "  0.9708333611488342,\n",
       "  0.9721666574478149,\n",
       "  0.9721666574478149,\n",
       "  0.9723333120346069,\n",
       "  0.9728333353996277,\n",
       "  0.9753333330154419,\n",
       "  0.9733333587646484,\n",
       "  0.9750000238418579,\n",
       "  0.9756666421890259,\n",
       "  0.9761666655540466,\n",
       "  0.9766666889190674,\n",
       "  0.9760000109672546,\n",
       "  0.9746666550636292,\n",
       "  0.9763333201408386,\n",
       "  0.9775000214576721,\n",
       "  0.9766666889190674,\n",
       "  0.9779999852180481,\n",
       "  0.9768333435058594,\n",
       "  0.9779999852180481,\n",
       "  0.9775000214576721,\n",
       "  0.9781666398048401,\n",
       "  0.9778333306312561,\n",
       "  0.9783333539962769,\n",
       "  0.9769999980926514,\n",
       "  0.9775000214576721,\n",
       "  0.9775000214576721,\n",
       "  0.9775000214576721,\n",
       "  0.9783333539962769,\n",
       "  0.9781666398048401,\n",
       "  0.9781666398048401,\n",
       "  0.9763333201408386,\n",
       "  0.9785000085830688,\n",
       "  0.9779999852180481,\n",
       "  0.9779999852180481,\n",
       "  0.9775000214576721,\n",
       "  0.9763333201408386,\n",
       "  0.9773333072662354,\n",
       "  0.9775000214576721,\n",
       "  0.9776666760444641,\n",
       "  0.9778333306312561,\n",
       "  0.9783333539962769,\n",
       "  0.9788333177566528,\n",
       "  0.9781666398048401,\n",
       "  0.9773333072662354,\n",
       "  0.9773333072662354,\n",
       "  0.9778333306312561,\n",
       "  0.9769999980926514,\n",
       "  0.9771666526794434]}"
      ]
     },
     "execution_count": 53,
     "metadata": {},
     "output_type": "execute_result"
    }
   ],
   "source": [
    "model_history.history"
   ]
  },
  {
   "cell_type": "code",
   "execution_count": 54,
   "id": "274d6bce",
   "metadata": {},
   "outputs": [
    {
     "data": {
      "image/png": "[encoded data removed]",
      "text/plain": [
       "<Figure size 576x360 with 1 Axes>"
      ]
     },
     "metadata": {
      "needs_background": "light"
     },
     "output_type": "display_data"
    }
   ],
   "source": [
    "#plotting the loss and accuracy graph\n",
    "\n",
    "import pandas as pd\n",
    "\n",
    "pd.DataFrame(model_history.history).plot(figsize=(8,5))\n",
    "plt.grid(True)\n",
    "plt.gca().set_ylim(0,1)\n",
    "plt.show()"
   ]
  },
  {
   "cell_type": "code",
   "execution_count": 55,
   "id": "a88a495d",
   "metadata": {},
   "outputs": [
    {
     "name": "stdout",
     "output_type": "stream",
     "text": [
      "313/313 [==============================] - 0s 642us/step - loss: 0.0740 - accuracy: 0.9794\n"
     ]
    },
    {
     "data": {
      "text/plain": [
       "[0.07404445111751556, 0.9793999791145325]"
      ]
     },
     "execution_count": 55,
     "metadata": {},
     "output_type": "execute_result"
    }
   ],
   "source": [
    "#evaluating the performance using test dataset\n",
    "\n",
    "model.evaluate(X_test,y_test)"
   ]
  },
  {
   "cell_type": "code",
   "execution_count": 56,
   "id": "033dc8c5",
   "metadata": {},
   "outputs": [],
   "source": [
    "#predicting first five records of the dataset mnist\n",
    "X_new = X_test[:5]"
   ]
  },
  {
   "cell_type": "code",
   "execution_count": 57,
   "id": "64f43a76",
   "metadata": {},
   "outputs": [
    {
     "data": {
      "text/plain": [
       "array([[0., 0., 0., 0., 0., 0., 0., 1., 0., 0.],\n",
       "       [0., 0., 1., 0., 0., 0., 0., 0., 0., 0.],\n",
       "       [0., 1., 0., 0., 0., 0., 0., 0., 0., 0.],\n",
       "       [1., 0., 0., 0., 0., 0., 0., 0., 0., 0.],\n",
       "       [0., 0., 0., 0., 1., 0., 0., 0., 0., 0.]], dtype=float32)"
      ]
     },
     "execution_count": 57,
     "metadata": {},
     "output_type": "execute_result"
    }
   ],
   "source": [
    "y_prob = model.predict(X_new)\n",
    "y_prob.round(2)"
   ]
  },
  {
   "cell_type": "code",
   "execution_count": 58,
   "id": "a02de52f",
   "metadata": {},
   "outputs": [
    {
     "data": {
      "text/plain": [
       "array([7, 2, 1, 0, 4], dtype=int64)"
      ]
     },
     "execution_count": 58,
     "metadata": {},
     "output_type": "execute_result"
    }
   ],
   "source": [
    "y_pred = model.predict_classes(X_new)\n",
    "y_pred"
   ]
  },
  {
   "cell_type": "code",
   "execution_count": 59,
   "id": "561459cb",
   "metadata": {},
   "outputs": [
    {
     "data": {
      "text/plain": [
       "<matplotlib.image.AxesImage at 0x25bb538fb50>"
      ]
     },
     "execution_count": 59,
     "metadata": {},
     "output_type": "execute_result"
    },
    {
     "data": {
      "image/png": "[encoded data removed]",
      "text/plain": [
       "<Figure size 432x288 with 1 Axes>"
      ]
     },
     "metadata": {
      "needs_background": "light"
     },
     "output_type": "display_data"
    }
   ],
   "source": [
    "plt.imshow(X_test[0])"
   ]
  },
  {
   "cell_type": "code",
   "execution_count": 60,
   "id": "4ffdbc23",
   "metadata": {},
   "outputs": [
    {
     "data": {
      "text/plain": [
       "<matplotlib.image.AxesImage at 0x25bb5011580>"
      ]
     },
     "execution_count": 60,
     "metadata": {},
     "output_type": "execute_result"
    },
    {
     "data": {
      "image/png": "[encoded data removed]",
      "text/plain": [
       "<Figure size 432x288 with 1 Axes>"
      ]
     },
     "metadata": {
      "needs_background": "light"
     },
     "output_type": "display_data"
    }
   ],
   "source": [
    "plt.imshow(X_test[1])"
   ]
  },
  {
   "cell_type": "code",
   "execution_count": 61,
   "id": "a22452cb",
   "metadata": {},
   "outputs": [
    {
     "data": {
      "text/plain": [
       "<matplotlib.image.AxesImage at 0x25bb4a54160>"
      ]
     },
     "execution_count": 61,
     "metadata": {},
     "output_type": "execute_result"
    },
    {
     "data": {
      "image/png": "[encoded data removed]",
      "text/plain": [
       "<Figure size 432x288 with 1 Axes>"
      ]
     },
     "metadata": {
      "needs_background": "light"
     },
     "output_type": "display_data"
    }
   ],
   "source": [
    "plt.imshow(X_test[2])"
   ]
  },
  {
   "cell_type": "code",
   "execution_count": 62,
   "id": "20923575",
   "metadata": {},
   "outputs": [
    {
     "data": {
      "text/plain": [
       "<matplotlib.image.AxesImage at 0x25bb4739130>"
      ]
     },
     "execution_count": 62,
     "metadata": {},
     "output_type": "execute_result"
    },
    {
     "data": {
      "image/png": "[encoded data removed]",
      "text/plain": [
       "<Figure size 432x288 with 1 Axes>"
      ]
     },
     "metadata": {
      "needs_background": "light"
     },
     "output_type": "display_data"
    }
   ],
   "source": [
    "plt.imshow(X_test[3])"
   ]
  },
  {
   "cell_type": "code",
   "execution_count": 63,
   "id": "442d1e28",
   "metadata": {},
   "outputs": [
    {
     "data": {
      "text/plain": [
       "<matplotlib.image.AxesImage at 0x25bb3c81310>"
      ]
     },
     "execution_count": 63,
     "metadata": {},
     "output_type": "execute_result"
    },
    {
     "data": {
      "image/png": "[encoded data removed]",
      "text/plain": [
       "<Figure size 432x288 with 1 Axes>"
      ]
     },
     "metadata": {
      "needs_background": "light"
     },
     "output_type": "display_data"
    }
   ],
   "source": [
    "plt.imshow(X_test[4])"
   ]
  },
  {
   "cell_type": "markdown",
   "id": "2b025097",
   "metadata": {},
   "source": [
    "# Conclusion\n",
    "\n",
    "The test data when fed to the model is accurate.\n",
    "After 60 epochs,\n",
    "When the training and validation dataset is given -> accuracy -> 0.9771 \n",
    "When test data is given -> accuracy -> 0.9794"
   ]
  },
  {
   "cell_type": "code",
   "execution_count": null,
   "id": "6628fffd",
   "metadata": {},
   "outputs": [],
   "source": []
  }
 ],
 "metadata": {
  "kernelspec": {
   "display_name": "Python 3 (ipykernel)",
   "language": "python",
   "name": "python3"
  },
  "language_info": {
   "codemirror_mode": {
    "name": "ipython",
    "version": 3
   },
   "file_extension": ".py",
   "mimetype": "text/x-python",
   "name": "python",
   "nbconvert_exporter": "python",
   "pygments_lexer": "ipython3",
   "version": "3.8.8"
  }
 },
 "nbformat": 4,
 "nbformat_minor": 5
}
